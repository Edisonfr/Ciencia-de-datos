{
 "cells": [
  {
   "cell_type": "markdown",
   "metadata": {},
   "source": [
    "# Análisis Descriptivo del Iris Dataset\n",
    "\n",
    "**Nombre:** Edison Forero \n",
    "**Materia:** Ciencia de Datos  \n",
    "**Salón:** TS7A\n",
    "\n",
    "En este informe, se realiza un análisis descriptivo del **Iris Dataset**. El objetivo es calcular y examinar las estadísticas descriptivas básicas para entender mejor las características de las flores Iris. Este análisis incluye el cálculo de la **media**, **mediana** y **desviación estándar** de las características principales del dataset.\n"
   ]
  },
  {
   "cell_type": "code",
   "execution_count": 1,
   "metadata": {},
   "outputs": [
    {
     "name": "stdout",
     "output_type": "stream",
     "text": [
      "Características (X):\n",
      "   sepal length  sepal width  petal length  petal width\n",
      "0           5.1          3.5           1.4          0.2\n",
      "1           4.9          3.0           1.4          0.2\n",
      "2           4.7          3.2           1.3          0.2\n",
      "3           4.6          3.1           1.5          0.2\n",
      "4           5.0          3.6           1.4          0.2\n",
      "\n",
      "Objetivo (y):\n",
      "         class\n",
      "0  Iris-setosa\n",
      "1  Iris-setosa\n",
      "2  Iris-setosa\n",
      "3  Iris-setosa\n",
      "4  Iris-setosa\n"
     ]
    }
   ],
   "source": [
    "import numpy as np\n",
    "from ucimlrepo import fetch_ucirepo\n",
    "\n",
    "# Cargar el dataset de Iris desde ucimlrepo\n",
    "iris = fetch_ucirepo(id=53)\n",
    "\n",
    "# Datos (como DataFrames de pandas)\n",
    "X = iris.data.features\n",
    "y = iris.data.targets\n",
    "\n",
    "# Mostrar las primeras filas de los datos\n",
    "print(\"Características (X):\")\n",
    "print(X.head())\n",
    "\n",
    "print(\"\\nObjetivo (y):\")\n",
    "print(y.head())\n"
   ]
  },
  {
   "cell_type": "markdown",
   "metadata": {},
   "source": [
    "## Descripción del Dataset\n",
    "\n",
    "El **Iris Dataset** es un conjunto de datos clásico en el análisis de datos y aprendizaje automático. Contiene información sobre tres especies de flores Iris: Setosa, Versicolor, y Virginica. Cada observación en el dataset incluye medidas de cuatro características: longitud del sépalo, ancho del sépalo, longitud del pétalo y ancho del pétalo.\n",
    "\n",
    "En este análisis, nos enfocamos en calcular estadísticas descriptivas para estas características para entender su distribución y variabilidad.\n"
   ]
  },
  {
   "cell_type": "code",
   "execution_count": 2,
   "metadata": {},
   "outputs": [
    {
     "name": "stdout",
     "output_type": "stream",
     "text": [
      "\n",
      "Estadísticas Descriptivas de las Características:\n",
      "Media:\n",
      "sepal length    5.843333\n",
      "sepal width     3.054000\n",
      "petal length    3.758667\n",
      "petal width     1.198667\n",
      "dtype: float64\n",
      "\n",
      "Mediana:\n",
      "sepal length    5.80\n",
      "sepal width     3.00\n",
      "petal length    4.35\n",
      "petal width     1.30\n",
      "dtype: float64\n",
      "\n",
      "Desviación Estándar:\n",
      "sepal length    0.828066\n",
      "sepal width     0.433594\n",
      "petal length    1.764420\n",
      "petal width     0.763161\n",
      "dtype: float64\n"
     ]
    }
   ],
   "source": [
    "# Calcular estadísticas descriptivas para las características\n",
    "print(\"\\nEstadísticas Descriptivas de las Características:\")\n",
    "print(\"Media:\")\n",
    "print(X.mean())  # Media\n",
    "\n",
    "print(\"\\nMediana:\")\n",
    "print(X.median())  # Mediana\n",
    "\n",
    "print(\"\\nDesviación Estándar:\")\n",
    "print(X.std())  # Desviación estándar\n"
   ]
  },
  {
   "cell_type": "markdown",
   "metadata": {},
   "source": [
    "## Interpretación de las Estadísticas Descriptivas\n",
    "\n",
    "- **Media:** La media de cada característica proporciona un valor central para los datos. Nos da una idea del valor promedio para cada medida de las flores Iris.\n",
    "- **Mediana:** La mediana ofrece una medida de tendencia central que no se ve afectada por valores extremos, ayudando a entender la distribución de los datos.\n",
    "- **Desviación Estándar:** La desviación estándar indica la variabilidad o dispersión de las características. Un valor alto sugiere que los datos están más dispersos alrededor de la media.\n",
    "\n",
    "Estas estadísticas ayudan a obtener una visión general de la distribución de las características en el dataset y son útiles para la preparación de datos antes de aplicar técnicas de análisis más complejas.\n"
   ]
  },
  {
   "cell_type": "code",
   "execution_count": 3,
   "metadata": {},
   "outputs": [
    {
     "name": "stdout",
     "output_type": "stream",
     "text": [
      "\n",
      "Metadatos:\n",
      "{'uci_id': 53, 'name': 'Iris', 'repository_url': 'https://archive.ics.uci.edu/dataset/53/iris', 'data_url': 'https://archive.ics.uci.edu/static/public/53/data.csv', 'abstract': 'A small classic dataset from Fisher, 1936. One of the earliest known datasets used for evaluating classification methods.\\n', 'area': 'Biology', 'tasks': ['Classification'], 'characteristics': ['Tabular'], 'num_instances': 150, 'num_features': 4, 'feature_types': ['Real'], 'demographics': [], 'target_col': ['class'], 'index_col': None, 'has_missing_values': 'no', 'missing_values_symbol': None, 'year_of_dataset_creation': 1936, 'last_updated': 'Tue Sep 12 2023', 'dataset_doi': '10.24432/C56C76', 'creators': ['R. A. Fisher'], 'intro_paper': {'title': 'The Iris data set: In search of the source of virginica', 'authors': 'A. Unwin, K. Kleinman', 'published_in': 'Significance, 2021', 'year': 2021, 'url': 'https://www.semanticscholar.org/paper/4599862ea877863669a6a8e63a3c707a787d5d7e', 'doi': '1740-9713.01589'}, 'additional_info': {'summary': 'This is one of the earliest datasets used in the literature on classification methods and widely used in statistics and machine learning.  The data set contains 3 classes of 50 instances each, where each class refers to a type of iris plant.  One class is linearly separable from the other 2; the latter are not linearly separable from each other.\\n\\nPredicted attribute: class of iris plant.\\n\\nThis is an exceedingly simple domain.\\n\\nThis data differs from the data presented in Fishers article (identified by Steve Chadwick,  spchadwick@espeedaz.net ).  The 35th sample should be: 4.9,3.1,1.5,0.2,\"Iris-setosa\" where the error is in the fourth feature. The 38th sample: 4.9,3.6,1.4,0.1,\"Iris-setosa\" where the errors are in the second and third features.  ', 'purpose': 'N/A', 'funded_by': None, 'instances_represent': 'Each instance is a plant', 'recommended_data_splits': None, 'sensitive_data': None, 'preprocessing_description': None, 'variable_info': None, 'citation': None}}\n",
      "\n",
      "Información de variables:\n",
      "           name     role         type demographic  \\\n",
      "0  sepal length  Feature   Continuous        None   \n",
      "1   sepal width  Feature   Continuous        None   \n",
      "2  petal length  Feature   Continuous        None   \n",
      "3   petal width  Feature   Continuous        None   \n",
      "4         class   Target  Categorical        None   \n",
      "\n",
      "                                         description units missing_values  \n",
      "0                                               None    cm             no  \n",
      "1                                               None    cm             no  \n",
      "2                                               None    cm             no  \n",
      "3                                               None    cm             no  \n",
      "4  class of iris plant: Iris Setosa, Iris Versico...  None             no  \n"
     ]
    }
   ],
   "source": [
    "# Metadatos\n",
    "print(\"\\nMetadatos:\")\n",
    "print(iris.metadata)\n",
    "\n",
    "# Información de variables\n",
    "print(\"\\nInformación de variables:\")\n",
    "print(iris.variables)\n"
   ]
  },
  {
   "cell_type": "markdown",
   "metadata": {},
   "source": [
    "## Metadatos e Información de Variables\n",
    "\n",
    "El conjunto de datos incluye metadatos que proporcionan información sobre la fuente, el propósito y las características del dataset. Además, la información de las variables describe cada característica medida en el dataset, facilitando una mejor comprensión del contenido y la estructura de los datos.\n",
    "\n",
    "Estos detalles son importantes para la interpretación correcta de los resultados y para asegurar que se utilizan los datos de manera adecuada en el análisis.\n"
   ]
  },
  {
   "cell_type": "markdown",
   "metadata": {},
   "source": [
    "## Informe del Análisis del Conjunto de Datos Iris\n",
    "\n",
    "Introducción\n",
    "Este informe presenta un análisis sencillo del Iris Dataset, un conjunto de datos muy popular en la ciencia de datos y el aprendizaje automático. El dataset contiene información sobre tres tipos de flores Iris: Setosa, Versicolor y Virginica, y cada una de ellas está descrita por cuatro características principales: longitud y ancho del sépalo, y longitud y ancho del pétalo.\n",
    "\n",
    "El objetivo de este análisis es calcular algunas estadísticas básicas, como la media y la desviación estándar, para entender mejor las características de estas flores y las diferencias entre las tres especies.\n",
    "\n",
    "## Resultados\n",
    "Después de analizar los datos, obtuvimos los siguientes resultados para cada una de las características:\n",
    "\n",
    "## Longitud del sépalo:\n",
    "Media: 5.84 cm\n",
    "Desviación estándar: 0.83 cm\n",
    "\n",
    "A## ncho del sépalo:\n",
    "Media: 3.05 cm\n",
    "Desviación estándar: 0.43 cm\n",
    "\n",
    "## Longitud del pétalo:\n",
    "Media: 3.76 cm\n",
    "\n",
    "## Desviación estándar: 1.77 cm\n",
    "\n",
    "## Ancho del pétalo:\n",
    "Media: 1.20 cm\n",
    "\n",
    "## Desviación estándar: 0.76 cm\n",
    "\n",
    "\n",
    "\n",
    "\n",
    "Lo más interesante de los resultados es que las tres especies de Iris tienen diferencias claras en algunas de sus características, especialmente en los pétalos. Por ejemplo, la especie Setosa tiene pétalos más cortos, mientras que Virginica tiene los pétalos más largos y anchos.\n",
    "\n",
    "## Interpretación\n",
    "\n",
    "Estos resultados nos dicen que algunas de las características físicas de las flores, como el tamaño de los sépalos, son bastante similares entre las diferentes especies, ya que tienen una baja desviación estándar (es decir, no varían tanto entre flores). Sin embargo, las características relacionadas con los pétalos muestran más variabilidad, lo que puede ser útil para distinguir entre las tres especies.\n",
    "\n",
    "En pocas palabras, las diferencias en el tamaño de los pétalos juegan un papel importante a la hora de identificar las especies de Iris. Por ejemplo, si observamos una flor con pétalos pequeños, es probable que sea una Iris Setosa, mientras que si los pétalos son grandes, es más probable que sea una Iris Virginica.\n",
    "\n",
    "## Conclusión\n",
    "Este análisis nos ayuda a entender cómo las características de las flores Iris pueden ser útiles para clasificarlas en diferentes especies. Aunque las medidas de los sépalos son bastante consistentes, los pétalos muestran más diferencias entre las especies, lo que podría facilitar la clasificación de las flores usando estas características en estudios o modelos de aprendizaje automático.\n"
   ]
  }
 ],
 "metadata": {
  "kernelspec": {
   "display_name": "Python 3",
   "language": "python",
   "name": "python3"
  },
  "language_info": {
   "codemirror_mode": {
    "name": "ipython",
    "version": 3
   },
   "file_extension": ".py",
   "mimetype": "text/x-python",
   "name": "python",
   "nbconvert_exporter": "python",
   "pygments_lexer": "ipython3",
   "version": "3.11.9"
  }
 },
 "nbformat": 4,
 "nbformat_minor": 2
}
