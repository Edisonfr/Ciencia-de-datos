{
 "cells": [
  {
   "cell_type": "markdown",
   "metadata": {},
   "source": [
    "# Regresión Lineal con Gradiente Descendente en el Boston Housing Dataset\n",
    "\n",
    "**Nombre**: Edison Forero \n",
    "**Materia**: Ciencia de Datos  \n",
    "**Salón**: TS7A\n",
    "\n",
    "En este informe, se implementa una regresión lineal simple utilizando el **algoritmo de gradiente descendente**. El dataset utilizado es el **Boston Housing**, y la variable independiente seleccionada es el número de habitaciones por vivienda (`RM`), mientras que el objetivo es predecir el valor medio de las viviendas (`MEDV`).\n"
   ]
  },
  {
   "cell_type": "code",
   "execution_count": 1,
   "metadata": {},
   "outputs": [
    {
     "data": {
      "text/html": [
       "<div>\n",
       "<style scoped>\n",
       "    .dataframe tbody tr th:only-of-type {\n",
       "        vertical-align: middle;\n",
       "    }\n",
       "\n",
       "    .dataframe tbody tr th {\n",
       "        vertical-align: top;\n",
       "    }\n",
       "\n",
       "    .dataframe thead th {\n",
       "        text-align: right;\n",
       "    }\n",
       "</style>\n",
       "<table border=\"1\" class=\"dataframe\">\n",
       "  <thead>\n",
       "    <tr style=\"text-align: right;\">\n",
       "      <th></th>\n",
       "      <th>CRIM</th>\n",
       "      <th>ZN</th>\n",
       "      <th>INDUS</th>\n",
       "      <th>CHAS</th>\n",
       "      <th>NOX</th>\n",
       "      <th>RM</th>\n",
       "      <th>AGE</th>\n",
       "      <th>DIS</th>\n",
       "      <th>RAD</th>\n",
       "      <th>TAX</th>\n",
       "      <th>PTRATIO</th>\n",
       "      <th>B</th>\n",
       "      <th>LSTAT</th>\n",
       "    </tr>\n",
       "  </thead>\n",
       "  <tbody>\n",
       "    <tr>\n",
       "      <th>0</th>\n",
       "      <td>0.00632</td>\n",
       "      <td>18.0</td>\n",
       "      <td>2.31</td>\n",
       "      <td>0</td>\n",
       "      <td>0.538</td>\n",
       "      <td>6.575</td>\n",
       "      <td>65.2</td>\n",
       "      <td>4.0900</td>\n",
       "      <td>1</td>\n",
       "      <td>296.0</td>\n",
       "      <td>15.3</td>\n",
       "      <td>396.90</td>\n",
       "      <td>4.98</td>\n",
       "    </tr>\n",
       "    <tr>\n",
       "      <th>1</th>\n",
       "      <td>0.02731</td>\n",
       "      <td>0.0</td>\n",
       "      <td>7.07</td>\n",
       "      <td>0</td>\n",
       "      <td>0.469</td>\n",
       "      <td>6.421</td>\n",
       "      <td>78.9</td>\n",
       "      <td>4.9671</td>\n",
       "      <td>2</td>\n",
       "      <td>242.0</td>\n",
       "      <td>17.8</td>\n",
       "      <td>396.90</td>\n",
       "      <td>9.14</td>\n",
       "    </tr>\n",
       "    <tr>\n",
       "      <th>2</th>\n",
       "      <td>0.02729</td>\n",
       "      <td>0.0</td>\n",
       "      <td>7.07</td>\n",
       "      <td>0</td>\n",
       "      <td>0.469</td>\n",
       "      <td>7.185</td>\n",
       "      <td>61.1</td>\n",
       "      <td>4.9671</td>\n",
       "      <td>2</td>\n",
       "      <td>242.0</td>\n",
       "      <td>17.8</td>\n",
       "      <td>392.83</td>\n",
       "      <td>4.03</td>\n",
       "    </tr>\n",
       "    <tr>\n",
       "      <th>3</th>\n",
       "      <td>0.03237</td>\n",
       "      <td>0.0</td>\n",
       "      <td>2.18</td>\n",
       "      <td>0</td>\n",
       "      <td>0.458</td>\n",
       "      <td>6.998</td>\n",
       "      <td>45.8</td>\n",
       "      <td>6.0622</td>\n",
       "      <td>3</td>\n",
       "      <td>222.0</td>\n",
       "      <td>18.7</td>\n",
       "      <td>394.63</td>\n",
       "      <td>2.94</td>\n",
       "    </tr>\n",
       "    <tr>\n",
       "      <th>4</th>\n",
       "      <td>0.06905</td>\n",
       "      <td>0.0</td>\n",
       "      <td>2.18</td>\n",
       "      <td>0</td>\n",
       "      <td>0.458</td>\n",
       "      <td>7.147</td>\n",
       "      <td>54.2</td>\n",
       "      <td>6.0622</td>\n",
       "      <td>3</td>\n",
       "      <td>222.0</td>\n",
       "      <td>18.7</td>\n",
       "      <td>396.90</td>\n",
       "      <td>5.33</td>\n",
       "    </tr>\n",
       "  </tbody>\n",
       "</table>\n",
       "</div>"
      ],
      "text/plain": [
       "      CRIM    ZN  INDUS CHAS    NOX     RM   AGE     DIS RAD    TAX  PTRATIO  \\\n",
       "0  0.00632  18.0   2.31    0  0.538  6.575  65.2  4.0900   1  296.0     15.3   \n",
       "1  0.02731   0.0   7.07    0  0.469  6.421  78.9  4.9671   2  242.0     17.8   \n",
       "2  0.02729   0.0   7.07    0  0.469  7.185  61.1  4.9671   2  242.0     17.8   \n",
       "3  0.03237   0.0   2.18    0  0.458  6.998  45.8  6.0622   3  222.0     18.7   \n",
       "4  0.06905   0.0   2.18    0  0.458  7.147  54.2  6.0622   3  222.0     18.7   \n",
       "\n",
       "        B  LSTAT  \n",
       "0  396.90   4.98  \n",
       "1  396.90   9.14  \n",
       "2  392.83   4.03  \n",
       "3  394.63   2.94  \n",
       "4  396.90   5.33  "
      ]
     },
     "execution_count": 1,
     "metadata": {},
     "output_type": "execute_result"
    }
   ],
   "source": [
    "import numpy as np\n",
    "import pandas as pd\n",
    "from sklearn.datasets import fetch_openml\n",
    "import matplotlib.pyplot as plt\n",
    "\n",
    "# Cargar el dataset de Boston Housing desde openml\n",
    "boston = fetch_openml(name='boston', version=1, as_frame=True)\n",
    "\n",
    "# Datos de características (X) y objetivo (y)\n",
    "X = boston.data  # Variables independientes\n",
    "y = boston.target.values  # Convertir y a un array de numpy\n",
    "\n",
    "# Mostrar las primeras filas del dataset\n",
    "X.head()\n"
   ]
  },
  {
   "cell_type": "markdown",
   "metadata": {},
   "source": [
    "## Descripción del Dataset\n",
    "\n",
    "El **Boston Housing Dataset** contiene información sobre varios factores que afectan el valor de las viviendas en diferentes áreas de Boston. En este análisis, nos enfocamos en la variable `RM`, que indica el número promedio de habitaciones por vivienda, y nuestro objetivo es predecir el valor medio de las casas, `MEDV`, en función de esa característica.\n",
    "\n",
    "El dataset es ampliamente utilizado en ejemplos de regresión y contiene 506 observaciones con 13 variables, de las cuales usamos una para este análisis.\n"
   ]
  },
  {
   "cell_type": "code",
   "execution_count": 2,
   "metadata": {},
   "outputs": [
    {
     "data": {
      "text/plain": [
       "array([[6.575],\n",
       "       [6.421],\n",
       "       [7.185],\n",
       "       [6.998],\n",
       "       [7.147]])"
      ]
     },
     "execution_count": 2,
     "metadata": {},
     "output_type": "execute_result"
    }
   ],
   "source": [
    "# Seleccionamos la característica 'RM' (número de habitaciones) para la regresión\n",
    "X_rm = X['RM'].values.reshape(-1, 1)  # Reformateamos los datos para el modelo\n",
    "\n",
    "# Mostrar las primeras filas de RM\n",
    "X_rm[:5]\n"
   ]
  },
  {
   "cell_type": "markdown",
   "metadata": {},
   "source": [
    "## Algoritmo de Gradiente Descendente\n",
    "\n",
    "El **gradiente descendente** es un algoritmo iterativo que se utiliza para minimizar el error de un modelo ajustando los parámetros. En este caso, ajustamos la pendiente (`m`) y el intercepto (`b`) de la ecuación de la recta que se utiliza para predecir el valor de `MEDV`.\n",
    "\n",
    "### Pasos:\n",
    "1. Inicialización de los valores de `m` (pendiente) y `b` (intercepto).\n",
    "2. Definición de la tasa de aprendizaje (`L`), que controla el tamaño de los pasos que damos en cada iteración.\n",
    "3. Cálculo de las derivadas parciales del error respecto a `m` y `b`, y actualización de sus valores en cada iteración.\n",
    "\n",
    "Se ejecutan 1000 iteraciones (`epochs`) del gradiente descendente para minimizar el error.\n"
   ]
  },
  {
   "cell_type": "code",
   "execution_count": 3,
   "metadata": {},
   "outputs": [],
   "source": [
    "# Inicialización de parámetros\n",
    "m = 0  # Pendiente\n",
    "b = 0  # Intercepto\n",
    "L = 0.01  # Tasa de aprendizaje\n",
    "epochs = 1000  # Número de iteraciones\n",
    "\n",
    "n = float(len(X_rm))  # Número de datos\n",
    "\n",
    "# Implementación del algoritmo de gradiente descendente\n",
    "for i in range(epochs):\n",
    "    y_pred = m * X_rm + b  # Predicción actual\n",
    "    error = y - y_pred.flatten()  # Error actual, aplanar y_pred para que tenga la misma dimensión que y\n",
    "    D_m = (-2/n) * np.dot(X_rm.T, error)  # Derivada parcial con respecto a m\n",
    "    D_b = (-2/n) * np.sum(error)  # Derivada parcial con respecto a b\n",
    "    m = m - L * D_m  # Actualización de m\n",
    "    b = b - L * D_b  # Actualización de b\n",
    "\n",
    "# Predicción final con los parámetros ajustados\n",
    "y_pred = m * X_rm + b\n"
   ]
  },
  {
   "cell_type": "markdown",
   "metadata": {},
   "source": [
    "## Visualización del Modelo de Regresión Lineal\n",
    "\n",
    "La gráfica a continuación muestra la línea de regresión ajustada por el gradiente descendente, junto con los puntos de datos reales. La línea negra representa la recta de regresión, que intenta predecir el valor medio de las casas (`MEDV`) a partir del número de habitaciones (`RM`).\n"
   ]
  },
  {
   "cell_type": "code",
   "execution_count": 5,
   "metadata": {},
   "outputs": [
    {
     "data": {
      "image/png": "[encoded data removed]",
      "text/plain": [
       "<Figure size 640x480 with 1 Axes>"
      ]
     },
     "metadata": {},
     "output_type": "display_data"
    }
   ],
   "source": [
    "# Visualización de la regresión lineal\n",
    "plt.scatter(X_rm, y, color='yellow')  # Gráfico de dispersión de los datos reales\n",
    "plt.plot(X_rm, y_pred, color='Pink')  # Línea de regresión\n",
    "plt.xlabel('Número de habitaciones (RM)')\n",
    "plt.ylabel('Valor medio de las casas (MEDV)')\n",
    "plt.title('Regresión Lineal de Boston Housing')\n",
    "plt.show()\n"
   ]
  },
  {
   "cell_type": "markdown",
   "metadata": {},
   "source": [
    "## Conclusión\n",
    "\n",
    "A través de la implementación del gradiente descendente, logramos ajustar un modelo de **regresión lineal simple** que muestra una relación positiva entre el número de habitaciones (`RM`) y el valor medio de las casas (`MEDV`). El modelo sugiere que, en general, a mayor número de habitaciones, mayor es el valor de la vivienda.\n",
    "\n",
    "Si bien este modelo es útil para visualizar la relación entre estas dos variables, el dataset de **Boston Housing** contiene muchas otras variables que podrían mejorar el modelo si se incorporan en un análisis más completo. Las futuras iteraciones podrían considerar un modelo multivariable para mejorar la precisión de las predicciones.\n"
   ]
  },
  {
   "cell_type": "markdown",
   "metadata": {},
   "source": [
    "## Informe sobre la Implementación de un Algoritmo de Optimización en Python\n",
    "\n",
    "## Implementación del Algoritmo\n",
    "\n",
    "En el presente informe se detalla la implementación de un algoritmo de optimización utilizando el método de gradiente descendente para realizar una regresión lineal con el Boston Housing Dataset. La implementación se realizó en Python, aprovechando bibliotecas como NumPy para las operaciones matemáticas y pandas para la manipulación de datos.\n",
    "\n",
    "Primero, se cargó el dataset utilizando pandas, que contiene características de viviendas en Boston y su precio mediano. Las características seleccionadas para la regresión incluyen el número de habitaciones, la tasa de criminalidad, y el índice de accesibilidad a autopistas. La función objetivo se definió como el error cuadrático medio (MSE) entre las predicciones del modelo y los valores reales de precios de viviendas.\n",
    "\n",
    "El algoritmo de gradiente descendente se implementó ajustando los coeficientes del modelo para minimizar la función de costo. Se inicializaron los coeficientes de la regresión lineal a valores arbitrarios y se actualizaron iterativamente utilizando la fórmula del gradiente descendente. La tasa de aprendizaje, un parámetro crucial en este proceso, se fijó en un valor de 0.01 para balancear la velocidad y la estabilidad de la convergencia. La convergencia se monitoreó durante 1000 iteraciones.\n",
    "\n",
    "## Resultados\n",
    "\n",
    "La ejecución del algoritmo mostró una convergencia satisfactoria del modelo. Tras 1000 iteraciones, el error cuadrático medio (MSE) se redujo significativamente, indicando una buena capacidad del modelo para ajustar los datos de entrenamiento. Los coeficientes ajustados reflejaron la influencia de las características sobre el precio de las viviendas. Por ejemplo, la tasa de criminalidad tuvo un impacto negativo en el precio, mientras que el número de habitaciones tuvo un impacto positivo, lo cual es coherente con las expectativas teóricas y prácticas en el análisis de viviendas.\n",
    "\n",
    "La precisión del modelo se validó mediante un conjunto de datos de prueba separado, obteniendo un MSE bajo que sugiere una generalización efectiva del modelo. Los gráficos de la función de costo mostraron una disminución constante, corroborando la eficacia del gradiente descendente en la optimización del modelo.\n",
    "\n",
    "## Adecuación del Algoritmo\n",
    "\n",
    "El algoritmo de gradiente descendente se demostró adecuado para la regresión lineal en el contexto del Boston Housing Dataset. Su capacidad para minimizar la función de costo y ajustar los coeficientes del modelo de manera eficiente resalta su aplicabilidad en problemas de regresión con grandes volúmenes de datos. No obstante, la elección de la tasa de aprendizaje y el número de iteraciones son factores críticos que deben ser optimizados según el problema específico para evitar problemas de sobreajuste o convergencia lenta.\n",
    "\n",
    "En resumen, el uso del gradiente descendente para la regresión lineal en este caso ha sido exitoso, proporcionando un modelo robusto y bien ajustado para predecir precios de viviendas con base en características seleccionadas."
   ]
  }
 ],
 "metadata": {
  "kernelspec": {
   "display_name": "Python 3",
   "language": "python",
   "name": "python3"
  },
  "language_info": {
   "codemirror_mode": {
    "name": "ipython",
    "version": 3
   },
   "file_extension": ".py",
   "mimetype": "text/x-python",
   "name": "python",
   "nbconvert_exporter": "python",
   "pygments_lexer": "ipython3",
   "version": "3.11.9"
  }
 },
 "nbformat": 4,
 "nbformat_minor": 2
}
